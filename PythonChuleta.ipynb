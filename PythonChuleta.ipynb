# Solicitar y guardar valor
numero1 = float(input("Ingrese el primer número: "))

# Condiciones / La f en el print sirve para declarar las variables con {}

if numero != 0:
  print(f"Valor: {numero1}")
elif numero = 0:
  print(f"Valor: {numero1}")
else:
  print("Valor: ",numero1,"ejemplo")

# Creacion de metodo 

def celsius_a_fahrenheit(celsius):
    fahrenheit = (celsius * 9/5) + 32
    return fahrenheit

numeros = [float(numero) for numero in entrada.split(",")]

