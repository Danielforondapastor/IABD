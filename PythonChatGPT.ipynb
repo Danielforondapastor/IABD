{
  "nbformat": 4,
  "nbformat_minor": 0,
  "metadata": {
    "colab": {
      "provenance": []
    },
    "kernelspec": {
      "name": "python3",
      "display_name": "Python 3"
    },
    "language_info": {
      "name": "python"
    }
  },
  "cells": [
    {
      "cell_type": "markdown",
      "source": [
        "# Ejercicio 1: Operaciones Matemáticas Básicas\n",
        "\n",
        "1. Escribe un programa en Python que realice operaciones matemáticas básicas, como suma, resta, multiplicación y división. Pide al usuario dos números y luego muestra el resultado de cada operación.\n",
        "2. Ejecuta el programa y verifica que las operaciones se realicen correctamente."
      ],
      "metadata": {
        "id": "yUMpG_kuLExg"
      }
    },
    {
      "cell_type": "code",
      "execution_count": null,
      "metadata": {
        "colab": {
          "base_uri": "https://localhost:8080/"
        },
        "id": "oZNpfJyrKf7F",
        "outputId": "c84a4003-c1be-464c-bf04-8d81c8fd17e6"
      },
      "outputs": [
        {
          "output_type": "stream",
          "name": "stdout",
          "text": [
            "Ingrese el primer número: 2\n",
            "Ingrese el segundo número: 3\n",
            "Suma: 2.0 + 3.0 = 5.0\n",
            "Resta: 2.0 - 3.0 = -1.0\n",
            "Multiplicación: 2.0 * 3.0 = 6.0\n",
            "División: 2.0 / 3.0 = 0.6666666666666666\n"
          ]
        }
      ],
      "source": [
        "# Solicita al usuario que ingrese dos números\n",
        "numero1 = float(input(\"Ingrese el primer número: \"))\n",
        "numero2 = float(input(\"Ingrese el segundo número: \"))\n",
        "\n",
        "# Realiza las operaciones matemáticas\n",
        "suma = numero1 + numero2\n",
        "resta = numero1 - numero2\n",
        "multiplicacion = numero1 * numero2\n",
        "\n",
        "# Verifica que el segundo número no sea cero antes de realizar la división\n",
        "if numero2 != 0:\n",
        "    division = numero1 / numero2\n",
        "else:\n",
        "    division = \"No se puede dividir por cero\"\n",
        "\n",
        "# Muestra los resultados\n",
        "print(f\"Suma: {numero1} + {numero2} = {suma}\")\n",
        "print(f\"Resta: {numero1} - {numero2} = {resta}\")\n",
        "print(f\"Multiplicación: {numero1} * {numero2} = {multiplicacion}\")\n",
        "print(f\"División: {numero1} / {numero2} = {division}\")"
      ]
    },
    {
      "cell_type": "markdown",
      "source": [
        "# Ejercicio 2: Conversión de Unidades\n",
        "\n",
        "1. Escribe un programa en Python que permita al usuario convertir entre unidades de medida, como de grados Celsius a Fahrenheit o de kilómetros a millas.\n",
        "2. Solicita al usuario un valor y la unidad de medida original, y luego realiza la conversión y muestra el resultado.\n",
        "3. Ejecuta el programa y verifica que las conversiones sean precisas."
      ],
      "metadata": {
        "id": "fcRMYeZpLRbq"
      }
    },
    {
      "cell_type": "code",
      "source": [
        "def celsius_a_fahrenheit(celsius):\n",
        "    fahrenheit = (celsius * 9/5) + 32\n",
        "    return fahrenheit\n",
        "\n",
        "def kilometros_a_millas(kilometros):\n",
        "    millas = kilometros * 0.621371\n",
        "    return millas\n",
        "\n",
        "# Solicita al usuario el valor y la unidad de medida original\n",
        "valor = float(input(\"Ingrese el valor a convertir: \"))\n",
        "unidad_original = input(\"Ingrese la unidad de medida original (Celsius = c/Kilómetros = k): \").lower()\n",
        "\n",
        "# Realiza la conversión según la unidad de medida original\n",
        "if unidad_original == \"c\":\n",
        "    fahrenheit = celsius_a_fahrenheit(valor)\n",
        "    print(f\"{valor} grados Celsius son equivalentes a {fahrenheit} grados Fahrenheit\")\n",
        "elif unidad_original == \"k\":\n",
        "    millas = kilometros_a_millas(valor)\n",
        "    print(f\"{valor} kilómetros son equivalentes a {millas} millas\")\n",
        "else:\n",
        "    print(\"Unidad de medida no válida. Por favor, elija 'Celsius' o 'Kilómetros'.\")\n"
      ],
      "metadata": {
        "colab": {
          "base_uri": "https://localhost:8080/"
        },
        "id": "duUu7HedK_7v",
        "outputId": "2ff08aca-e10b-405b-aab5-6486283faa3d"
      },
      "execution_count": 4,
      "outputs": [
        {
          "output_type": "stream",
          "name": "stdout",
          "text": [
            "Ingrese el valor a convertir: 30\n",
            "Ingrese la unidad de medida original (Celsius = c/Kilómetros = k): c\n",
            "30.0 grados Celsius son equivalentes a 86.0 grados Fahrenheit\n"
          ]
        }
      ]
    },
    {
      "cell_type": "markdown",
      "source": [
        "# Ejercicio 3: Cálculo de Áreas\n",
        "\n",
        "1. Escribe un programa en Python que calcule el área de diversas formas geométricas, como cuadrados, rectángulos y círculos.\n",
        "2. Solicita al usuario que elija la forma,ponga los datos necesarios (longitud de lados, radio, etc.) y muestra el área correspondiente.\n",
        "3. Ejecuta el programa y verifica que los cálculos de áreas sean correctos."
      ],
      "metadata": {
        "id": "xYGNSxOOMABm"
      }
    },
    {
      "cell_type": "code",
      "source": [
        "import math\n",
        "\n",
        "# Función para calcular el área de un cuadrado\n",
        "def area_cuadrado(lado):\n",
        "    return lado * lado\n",
        "\n",
        "# Función para calcular el área de un rectángulo\n",
        "def area_rectangulo(base, altura):\n",
        "    return base * altura\n",
        "\n",
        "# Función para calcular el área de un círculo\n",
        "def area_circulo(radio):\n",
        "    return math.pi * radio**2\n",
        "\n",
        "# Solicita al usuario que elija la forma geométrica\n",
        "print(\"Elija la forma geométrica para calcular el área:\")\n",
        "print(\"1. Cuadrado\")\n",
        "print(\"2. Rectángulo\")\n",
        "print(\"3. Círculo\")\n",
        "opcion = int(input(\"Ingrese el número de la forma (1/2/3): \"))\n",
        "\n",
        "if opcion == 1:\n",
        "    lado = float(input(\"Ingrese la longitud del lado del cuadrado: \"))\n",
        "    area = area_cuadrado(lado)\n",
        "    print(f\"El área del cuadrado es {area}\")\n",
        "elif opcion == 2:\n",
        "    base = float(input(\"Ingrese la base del rectángulo: \"))\n",
        "    altura = float(input(\"Ingrese la altura del rectángulo: \"))\n",
        "    area = area_rectangulo(base, altura)\n",
        "    print(f\"El área del rectángulo es {area}\")\n",
        "elif opcion == 3:\n",
        "    radio = float(input(\"Ingrese el radio del círculo: \"))\n",
        "    area = area_circulo(radio)\n",
        "    print(f\"El área del círculo es {area}\")\n",
        "else:\n",
        "    print(\"Opción no válida. Por favor, elija 1, 2 o 3 para la forma geométrica.\")\n"
      ],
      "metadata": {
        "colab": {
          "base_uri": "https://localhost:8080/"
        },
        "id": "BZWPp6imMSgF",
        "outputId": "acfd5cbb-c5d5-4a9e-d73f-4e2783455a8d"
      },
      "execution_count": 6,
      "outputs": [
        {
          "output_type": "stream",
          "name": "stdout",
          "text": [
            "Elija la forma geométrica para calcular el área:\n",
            "1. Cuadrado\n",
            "2. Rectángulo\n",
            "3. Círculo\n",
            "Ingrese el número de la forma (1/2/3): 1\n",
            "Ingrese la longitud del lado del cuadrado: 20\n",
            "El área del cuadrado es 400.0\n"
          ]
        }
      ]
    },
    {
      "cell_type": "markdown",
      "source": [
        "# Ejercicio 4: Listas y Bucles\n",
        "\n",
        "1. Escribe un programa en Python que solicite al usuario una lista de números separados por comas.\n",
        "2. Convierte la entrada del usuario en una lista y realiza operaciones como sumar los números, encontrar el número más grande o más pequeño, y calcular el promedio.\n",
        "3. Ejecuta el programa y verifica que los cálculos sean precisos."
      ],
      "metadata": {
        "id": "D3HaJoSLMkDD"
      }
    },
    {
      "cell_type": "code",
      "source": [
        "# Solicita al usuario una lista de números separados por comas\n",
        "entrada = input(\"Ingrese una lista de números separados por comas: \")\n",
        "\n",
        "# Convierte la entrada del usuario en una lista de números\n",
        "numeros = [float(numero) for numero in entrada.split(\",\")]\n",
        "\n",
        "# Realiza las operaciones\n",
        "suma = sum(numeros)\n",
        "maximo = max(numeros)\n",
        "minimo = min(numeros)\n",
        "promedio = suma / len(numeros)\n",
        "\n",
        "# Muestra los resultados\n",
        "print(f\"Suma de los números: {suma}\")\n",
        "print(f\"Número más grande: {maximo}\")\n",
        "print(f\"Número más pequeño: {minimo}\")\n",
        "print(f\"Promedio de los números: {promedio}\")"
      ],
      "metadata": {
        "colab": {
          "base_uri": "https://localhost:8080/"
        },
        "id": "lTzoXH7wMscJ",
        "outputId": "46fcbd72-9471-43b4-af90-a90adf878b9a"
      },
      "execution_count": 7,
      "outputs": [
        {
          "output_type": "stream",
          "name": "stdout",
          "text": [
            "Ingrese una lista de números separados por comas: 1,3,5,2,7,4,8\n",
            "Suma de los números: 30.0\n",
            "Número más grande: 8.0\n",
            "Número más pequeño: 1.0\n",
            "Promedio de los números: 4.285714285714286\n"
          ]
        }
      ]
    },
    {
      "cell_type": "markdown",
      "source": [
        "# Ejercicio 5: Análisis de Texto\n",
        "\n",
        "1. Escribe un programa en Python que solicite al usuario un párrafo de texto.\n",
        "2. Realiza análisis del texto, como contar las palabras, contar las letras y encontrar la palabra más larga.\n",
        "3. Ejecuta el programa y verifica que los análisis del texto sean correctos."
      ],
      "metadata": {
        "id": "SpAUHDg2NL76"
      }
    },
    {
      "cell_type": "code",
      "source": [
        "# Solicita al usuario un párrafo de texto\n",
        "parrafo = input(\"Ingrese un párrafo de texto: \")\n",
        "\n",
        "# Divide el párrafo en palabras\n",
        "palabras = parrafo.split()\n",
        "\n",
        "# Cuenta el número de palabras\n",
        "num_palabras = len(palabras)\n",
        "\n",
        "# Cuenta el número de letras\n",
        "num_letras = sum(len(palabra) for palabra in palabras)\n",
        "\n",
        "# Encuentra la palabra más larga\n",
        "palabra_mas_larga = max(palabras, key=len)\n",
        "\n",
        "# Muestra los resultados\n",
        "print(f\"Número de palabras: {num_palabras}\")\n",
        "print(f\"Número de letras: {num_letras}\")\n",
        "print(f\"Palabra más larga: {palabra_mas_larga}\")\n"
      ],
      "metadata": {
        "colab": {
          "base_uri": "https://localhost:8080/"
        },
        "id": "PK4Qax8zNWOK",
        "outputId": "abf46734-1e1c-4f38-995c-c122fb1a55d8"
      },
      "execution_count": 8,
      "outputs": [
        {
          "output_type": "stream",
          "name": "stdout",
          "text": [
            "Ingrese un párrafo de texto: esto es una prueba de python\n",
            "Número de palabras: 6\n",
            "Número de letras: 23\n",
            "Palabra más larga: prueba\n"
          ]
        }
      ]
    }
  ]
}